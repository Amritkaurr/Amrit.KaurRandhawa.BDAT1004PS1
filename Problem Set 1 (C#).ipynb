{
 "cells": [
  {
   "cell_type": "markdown",
   "id": "ded51c72",
   "metadata": {},
   "source": [
    "# PROBLEM SET 1-- C#\n"
   ]
  },
  {
   "cell_type": "markdown",
   "id": "64835870",
   "metadata": {},
   "source": [
    "# Question1:"
   ]
  },
  {
   "cell_type": "markdown",
   "id": "ff80ac5d",
   "metadata": {},
   "source": [
    "Data types of the following are:\n",
    "\n",
    "\n",
    "5  ------------------------*integer*\n",
    "\n",
    "5.0  ------------------------*float*\n",
    "\n",
    "5 > 1  -----------------------*boolean*\n",
    "\n",
    "'5'    -----------------------*string*\n",
    "\n",
    "5 * 2   ----------------------*integer*\n",
    "\n",
    "'5' * 2  ---------------------*string*\n",
    "\n",
    "'5' + '2' --------------------*string* \n",
    "\n",
    "5 / 2  ----------------------*float*\n",
    "\n",
    "5 % 2   ---------------------*integer*\n",
    "\n",
    "{5, 2, 1} -------------------*array*\n",
    "\n",
    "5 == 3  ---------------------*boolean*\n",
    "\n",
    "Pi (the number) -------------*double float*\n"
   ]
  },
  {
   "cell_type": "code",
   "execution_count": null,
   "id": "19939d16",
   "metadata": {},
   "outputs": [],
   "source": []
  },
  {
   "cell_type": "markdown",
   "id": "d96fee5e",
   "metadata": {},
   "source": [
    "# Question 2:\n",
    "\n",
    "## 2 (a):"
   ]
  },
  {
   "cell_type": "code",
   "execution_count": 1,
   "id": "7ccad95c",
   "metadata": {},
   "outputs": [
    {
     "data": {
      "text/plain": [
       "34"
      ]
     },
     "execution_count": 1,
     "metadata": {},
     "output_type": "execute_result"
    }
   ],
   "source": [
    "\"supercalifragilisticexpialidocious\".Length"
   ]
  },
  {
   "cell_type": "markdown",
   "id": "a3e6820d",
   "metadata": {},
   "source": [
    "\n",
    "## 2(b):\n"
   ]
  },
  {
   "cell_type": "code",
   "execution_count": 2,
   "id": "ba4e2c40",
   "metadata": {},
   "outputs": [
    {
     "name": "stdout",
     "output_type": "stream",
     "text": [
      "Yes,substring 'ice' is in the string 'Supercalifragilisticexpialidocious'\r\n"
     ]
    }
   ],
   "source": [
    "string s1=\"Supercalifragilisticexpialidocious\";\n",
    "string s2=\"ice\";\n",
    "bool b= s1.Contains(s2);\n",
    " \n",
    "  {\n",
    "  Console.WriteLine(\"Yes,substring '{0}' is in the string '{1}'\", s2, s1);\n",
    "  }"
   ]
  },
  {
   "cell_type": "markdown",
   "id": "7f69b3a8",
   "metadata": {},
   "source": [
    "## 2(c):"
   ]
  },
  {
   "cell_type": "code",
   "execution_count": 4,
   "id": "d587d950",
   "metadata": {},
   "outputs": [],
   "source": [
    "string name1= \"supercalifragilisticexpialidocious\";\n",
    "string name2= \"Honorificabilitudinitatibus\";\n",
    "string name3=\"Bababadalgharaghtakamminarronnkonn\";"
   ]
  },
  {
   "cell_type": "code",
   "execution_count": 5,
   "id": "e10d978e",
   "metadata": {},
   "outputs": [
    {
     "data": {
      "text/plain": [
       "34"
      ]
     },
     "execution_count": 5,
     "metadata": {},
     "output_type": "execute_result"
    }
   ],
   "source": [
    "name1.Length"
   ]
  },
  {
   "cell_type": "code",
   "execution_count": 6,
   "id": "0edf4a4c",
   "metadata": {},
   "outputs": [
    {
     "data": {
      "text/plain": [
       "27"
      ]
     },
     "execution_count": 6,
     "metadata": {},
     "output_type": "execute_result"
    }
   ],
   "source": [
    "name2.Length"
   ]
  },
  {
   "cell_type": "code",
   "execution_count": 7,
   "id": "88bd27e1",
   "metadata": {},
   "outputs": [
    {
     "data": {
      "text/plain": [
       "34"
      ]
     },
     "execution_count": 7,
     "metadata": {},
     "output_type": "execute_result"
    }
   ],
   "source": [
    "name3.Length"
   ]
  },
  {
   "cell_type": "markdown",
   "id": "c0a59940",
   "metadata": {},
   "source": [
    "###### so string name1 and string name 3 are equally long"
   ]
  },
  {
   "cell_type": "code",
   "execution_count": null,
   "id": "1711e675",
   "metadata": {},
   "outputs": [],
   "source": []
  },
  {
   "cell_type": "markdown",
   "id": "3d0b5549",
   "metadata": {},
   "source": [
    "# Question3"
   ]
  },
  {
   "cell_type": "code",
   "execution_count": 14,
   "id": "81975ec1",
   "metadata": {},
   "outputs": [
    {
     "ename": "Unhandled Exception",
     "evalue": "(5,12): error CS0103: The name 'math' does not exist in the current context\r\n(5,22): error CS0103: The name 's' does not exist in the current context\r\n(5,25): error CS0103: The name 's' does not exist in the current context\r\n(5,31): error CS0103: The name 's' does not exist in the current context\r\n(5,37): error CS0103: The name 's' does not exist in the current context\r\n(4,1): error CS0103: The name 's' does not exist in the current context",
     "output_type": "error",
     "traceback": [
      "(5,12): error CS0103: The name 'math' does not exist in the current context\r\n(5,22): error CS0103: The name 's' does not exist in the current context\r\n(5,25): error CS0103: The name 's' does not exist in the current context\r\n(5,31): error CS0103: The name 's' does not exist in the current context\r\n(5,37): error CS0103: The name 's' does not exist in the current context\r\n(4,1): error CS0103: The name 's' does not exist in the current context"
     ]
    }
   ],
   "source": [
    "var a=2;\n",
    "var b =2;\n",
    "var c=2;        \n",
    "s=(a+b+c)/2;\n",
    " var Area= math.sqrt(s*(s-a)*(s-b)*(s-c));\n",
    " Console.Write(\"trianglearea(2,2,2)=\"+Area);\n"
   ]
  },
  {
   "cell_type": "markdown",
   "id": "46ee4392",
   "metadata": {},
   "source": [
    "# Question4:"
   ]
  },
  {
   "cell_type": "code",
   "execution_count": 8,
   "id": "825e07da",
   "metadata": {},
   "outputs": [
    {
     "ename": "Unhandled Exception",
     "evalue": "(1,7): error CS1525: Invalid expression term '{'\r\n(1,7): error CS1002: ; expected\r\n(1,10): error CS1002: ; expected\r\n(1,10): error CS1513: } expected\r\n(1,13): error CS1002: ; expected\r\n(1,13): error CS1513: } expected\r\n(1,16): error CS1002: ; expected\r\n(1,16): error CS1513: } expected\r\n(1,19): error CS1002: ; expected\r\n(1,19): error CS1513: } expected\r\n(1,22): error CS1002: ; expected\r\n(5,14): error CS1002: ; expected\r\n(5,14): error CS1513: } expected\r\n(5,18): error CS1002: ; expected\r\n(6,45): error CS8641: 'else' cannot start a statement.\r\n(6,45): error CS1003: Syntax error, '(' expected\r\n(6,45): error CS1525: Invalid expression term 'else'\r\n(6,45): error CS1026: ) expected\r\n(6,45): error CS1525: Invalid expression term 'else'\r\n(6,45): error CS1002: ; expected\r\n(8,17): error CS1002: ; expected",
     "output_type": "error",
     "traceback": [
      "(1,7): error CS1525: Invalid expression term '{'\r\n(1,7): error CS1002: ; expected\r\n(1,10): error CS1002: ; expected\r\n(1,10): error CS1513: } expected\r\n(1,13): error CS1002: ; expected\r\n(1,13): error CS1513: } expected\r\n(1,16): error CS1002: ; expected\r\n(1,16): error CS1513: } expected\r\n(1,19): error CS1002: ; expected\r\n(1,19): error CS1513: } expected\r\n(1,22): error CS1002: ; expected\r\n(5,14): error CS1002: ; expected\r\n(5,14): error CS1513: } expected\r\n(5,18): error CS1002: ; expected\r\n(6,45): error CS8641: 'else' cannot start a statement.\r\n(6,45): error CS1003: Syntax error, '(' expected\r\n(6,45): error CS1525: Invalid expression term 'else'\r\n(6,45): error CS1026: ) expected\r\n(6,45): error CS1525: Invalid expression term 'else'\r\n(6,45): error CS1002: ; expected\r\n(8,17): error CS1002: ; expected"
     ]
    }
   ],
   "source": [
    "x[5] ={25,47,42,56,32};\n",
    "int []odd= new int[5];\n",
    "int[] even= new int[5];\n",
    "if(x[i]%2==0)\n",
    "{x[i]=even[i],i++}\n",
    "Console.WriteLine(\"the even numbers are: \");\n",
    "else\n",
    "{x[i]=odd[i];i++}\n",
    "Console.WriteLine(\"the odd numbers are: \");"
   ]
  },
  {
   "cell_type": "code",
   "execution_count": null,
   "id": "7e400bd8",
   "metadata": {},
   "outputs": [],
   "source": []
  }
 ],
 "metadata": {
  "kernelspec": {
   "display_name": ".NET (C#)",
   "language": "C#",
   "name": ".net-csharp"
  },
  "language_info": {
   "file_extension": ".cs",
   "mimetype": "text/x-csharp",
   "name": "C#",
   "pygments_lexer": "csharp",
   "version": "8.0"
  }
 },
 "nbformat": 4,
 "nbformat_minor": 5
}
