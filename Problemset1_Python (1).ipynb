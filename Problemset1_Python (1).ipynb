{
 "cells": [
  {
   "cell_type": "markdown",
   "id": "7c0d82e0",
   "metadata": {},
   "source": [
    "# PROBLEM SET 1-- PYTHON"
   ]
  },
  {
   "cell_type": "markdown",
   "id": "5209ad13",
   "metadata": {},
   "source": [
    "## Question6:"
   ]
  },
  {
   "cell_type": "code",
   "execution_count": 7,
   "id": "3f3a72b8",
   "metadata": {},
   "outputs": [
    {
     "name": "stdout",
     "output_type": "stream",
     "text": [
      "Enter the word to translate to piglatin: Happy\n",
      "H is a consonant\n",
      "The word in pig latin is: appyhay\n"
     ]
    }
   ],
   "source": [
    "def piglatin(myword):\n",
    "    ay='ay'\n",
    "    way='way'\n",
    "consonant=('B','b','C','c','D','d','F','f','G','g','h','H','J','j','K','k','L','l','M','m','N','n','P','p','Q','q','R','r','S','s','t','T','V','v','W','w','X','x','Y','y','Z','z')\n",
    "vowel=('A','a','E','e','I','i','O','o','U','u')       ##Used upper case and lower case letters to not get any error in output on using upper case in string\n",
    "myword= input('Enter the word to translate to piglatin: ')\n",
    "firstletter= myword[0]\n",
    "firstletter= str (firstletter)\n",
    "\n",
    "if firstletter in consonant:\n",
    "    print(firstletter,'is a consonant')\n",
    "    wordlength= len(myword)\n",
    "    removefirstletter= myword[1:wordlength]        ##played around the codes and finally got this one right\n",
    "    piglatin=removefirstletter+firstletter+'ay'\n",
    "    print('The word in pig latin is:',piglatin.lower())     ##the condition to have output in lower case is satisfied using .lower\n",
    "elif firstletter in vowel:\n",
    "    print(firstletter,'is a vowel')\n",
    "    piglatin=myword+'way'\n",
    "    print('the word in pig latin is:',piglatin.lower())\n",
    "else:\n",
    "    print('sorry')\n",
    "    "
   ]
  },
  {
   "cell_type": "markdown",
   "id": "f3e4bff2",
   "metadata": {},
   "source": [
    "#### with \"Enter\"                  "
   ]
  },
  {
   "cell_type": "code",
   "execution_count": 18,
   "id": "6776e46d",
   "metadata": {},
   "outputs": [
    {
     "name": "stdout",
     "output_type": "stream",
     "text": [
      "Enter the word to translate to piglatin: Enter\n",
      "E is a vowel\n",
      "the word in pig latin is: enterway\n"
     ]
    }
   ],
   "source": [
    "def piglatin(myword):\n",
    "    ay='ay'\n",
    "    way='way'\n",
    "consonant=('B','b','C','c','D','d','F','f','G','g','h','H','J','j','K','k','L','l','M','m','N','n','P','p','Q','q','R','r','S','s','t','T','V','v','W','w','X','x','Y','y','Z','z')\n",
    "vowel=('A','a','E','e','I','i','O','o','U','u')\n",
    "myword= input('Enter the word to translate to piglatin: ')\n",
    "firstletter= myword[0]\n",
    "firstletter= str (firstletter)\n",
    "\n",
    "if firstletter in consonant:\n",
    "    print(firstletter,'is a consonant')\n",
    "    wordlength= len(myword)\n",
    "    removefirstletter= myword[1:wordlength]\n",
    "    piglatin=removefirstletter+firstletter+'ay'\n",
    "    print('The word in pig latin is:',piglatin.lower())\n",
    "elif firstletter in vowel:\n",
    "    print(firstletter,'is a vowel')\n",
    "    piglatin=myword+'way'\n",
    "    print('the word in pig latin is:',piglatin.lower())\n",
    "else:\n",
    "    print('sorry')"
   ]
  },
  {
   "cell_type": "code",
   "execution_count": null,
   "id": "b12b895c",
   "metadata": {},
   "outputs": [],
   "source": []
  },
  {
   "cell_type": "markdown",
   "id": "19e9d033",
   "metadata": {},
   "source": [
    "## Question7:"
   ]
  },
  {
   "cell_type": "code",
   "execution_count": 8,
   "id": "bf830f30",
   "metadata": {},
   "outputs": [
    {
     "name": "stdout",
     "output_type": "stream",
     "text": [
      "There are 15 patients of blood type A.\n",
      "There is one patient of bloodtype B.\n",
      "There are 13 patients of blood type AB.\n",
      "There are 15 patients of blood type O.\n",
      "There are no patients of blood type OO.\n"
     ]
    }
   ],
   "source": [
    "with open('name.txt','r') as f:\n",
    "    contents=f.read()\n",
    "    contents=contents.split()\n",
    "    bloodtype=['A','B','AB','O','OO']\n",
    "    for i in bloodtype:\n",
    "            if contents.count(i)==0:\n",
    "                print('There are no patients of blood type',i+'.')\n",
    "            elif contents.count(i)==1:\n",
    "                print('There is one patient of bloodtype',i+'.')\n",
    "            else:\n",
    "                print('There are',contents.count(i),'patients of blood type',i+'.')\n",
    "          "
   ]
  },
  {
   "cell_type": "code",
   "execution_count": null,
   "id": "f416b60f",
   "metadata": {},
   "outputs": [],
   "source": []
  },
  {
   "cell_type": "markdown",
   "id": "a4b99cd1",
   "metadata": {},
   "source": [
    "## Question8 :"
   ]
  },
  {
   "cell_type": "code",
   "execution_count": 11,
   "id": "c9910bfe",
   "metadata": {},
   "outputs": [
    {
     "name": "stdout",
     "output_type": "stream",
     "text": [
      "currency to convert into US Dollars: EUR\n",
      "amount: 100\n",
      "<class 'int'>\n"
     ]
    }
   ],
   "source": [
    "def curconv(from_currency,amount,):\n",
    "    with open('currency.txt','r') as f:\n",
    "        contents=f.read()        \n",
    "from_currency=input('currency to convert into US Dollars: ') \n",
    "amount=input('amount: ')\n",
    "print(int)"
   ]
  },
  {
   "cell_type": "code",
   "execution_count": null,
   "id": "03cad227",
   "metadata": {},
   "outputs": [],
   "source": []
  },
  {
   "cell_type": "markdown",
   "id": "2606cc0d",
   "metadata": {},
   "source": [
    "## Question9"
   ]
  },
  {
   "cell_type": "markdown",
   "id": "7a7f386b",
   "metadata": {},
   "source": [
    "#### when we add incompatible variables:"
   ]
  },
  {
   "cell_type": "code",
   "execution_count": 12,
   "id": "e3c1ede2",
   "metadata": {},
   "outputs": [
    {
     "ename": "TypeError",
     "evalue": "unsupported operand type(s) for +: 'int' and 'str'",
     "output_type": "error",
     "traceback": [
      "\u001b[1;31m---------------------------------------------------------------------------\u001b[0m",
      "\u001b[1;31mTypeError\u001b[0m                                 Traceback (most recent call last)",
      "\u001b[1;32m<ipython-input-12-1c6247d61ff3>\u001b[0m in \u001b[0;36m<module>\u001b[1;34m\u001b[0m\n\u001b[1;32m----> 1\u001b[1;33m \u001b[0mx\u001b[0m\u001b[1;33m=\u001b[0m\u001b[1;36m6\u001b[0m\u001b[1;33m+\u001b[0m\u001b[1;34m'a'\u001b[0m\u001b[1;33m\u001b[0m\u001b[1;33m\u001b[0m\u001b[0m\n\u001b[0m\u001b[0;32m      2\u001b[0m \u001b[0mprint\u001b[0m\u001b[1;33m(\u001b[0m\u001b[0mx\u001b[0m\u001b[1;33m)\u001b[0m\u001b[1;33m\u001b[0m\u001b[1;33m\u001b[0m\u001b[0m\n",
      "\u001b[1;31mTypeError\u001b[0m: unsupported operand type(s) for +: 'int' and 'str'"
     ]
    }
   ],
   "source": [
    "x=6+'a'\n",
    "print(x)"
   ]
  },
  {
   "cell_type": "markdown",
   "id": "fd7a69c0",
   "metadata": {},
   "source": [
    "#### Referring to 12th item of a list with 10 items:- // using indexing operator"
   ]
  },
  {
   "cell_type": "code",
   "execution_count": 14,
   "id": "56c90bf3",
   "metadata": {},
   "outputs": [
    {
     "ename": "IndexError",
     "evalue": "list index out of range",
     "output_type": "error",
     "traceback": [
      "\u001b[1;31m---------------------------------------------------------------------------\u001b[0m",
      "\u001b[1;31mIndexError\u001b[0m                                Traceback (most recent call last)",
      "\u001b[1;32m<ipython-input-14-3e88c895f2ed>\u001b[0m in \u001b[0;36m<module>\u001b[1;34m\u001b[0m\n\u001b[0;32m      1\u001b[0m \u001b[0mmylist\u001b[0m\u001b[1;33m=\u001b[0m\u001b[1;33m[\u001b[0m\u001b[1;36m1\u001b[0m\u001b[1;33m,\u001b[0m\u001b[1;36m2\u001b[0m\u001b[1;33m,\u001b[0m\u001b[1;36m3\u001b[0m\u001b[1;33m,\u001b[0m\u001b[1;36m4\u001b[0m\u001b[1;33m,\u001b[0m\u001b[1;36m5\u001b[0m\u001b[1;33m,\u001b[0m\u001b[1;36m6\u001b[0m\u001b[1;33m,\u001b[0m\u001b[1;36m7\u001b[0m\u001b[1;33m,\u001b[0m\u001b[1;36m8\u001b[0m\u001b[1;33m,\u001b[0m\u001b[1;36m9\u001b[0m\u001b[1;33m,\u001b[0m\u001b[1;36m10\u001b[0m\u001b[1;33m]\u001b[0m\u001b[1;33m\u001b[0m\u001b[1;33m\u001b[0m\u001b[0m\n\u001b[1;32m----> 2\u001b[1;33m \u001b[0mprint\u001b[0m\u001b[1;33m(\u001b[0m\u001b[0mmylist\u001b[0m\u001b[1;33m[\u001b[0m\u001b[1;36m12\u001b[0m\u001b[1;33m]\u001b[0m\u001b[1;33m)\u001b[0m\u001b[1;33m\u001b[0m\u001b[1;33m\u001b[0m\u001b[0m\n\u001b[0m",
      "\u001b[1;31mIndexError\u001b[0m: list index out of range"
     ]
    }
   ],
   "source": [
    "mylist=[1,2,3,4,5,6,7,8,9,10]   \n",
    "print(mylist[12])"
   ]
  },
  {
   "cell_type": "markdown",
   "id": "7be7f6f4",
   "metadata": {},
   "source": [
    "#### using value out of range of function input:-"
   ]
  },
  {
   "cell_type": "code",
   "execution_count": 15,
   "id": "d0a9f346",
   "metadata": {},
   "outputs": [
    {
     "ename": "ValueError",
     "evalue": "math domain error",
     "output_type": "error",
     "traceback": [
      "\u001b[1;31m---------------------------------------------------------------------------\u001b[0m",
      "\u001b[1;31mValueError\u001b[0m                                Traceback (most recent call last)",
      "\u001b[1;32m<ipython-input-15-a08c275a2614>\u001b[0m in \u001b[0;36m<module>\u001b[1;34m\u001b[0m\n\u001b[0;32m      1\u001b[0m \u001b[1;32mimport\u001b[0m \u001b[0mmath\u001b[0m\u001b[1;33m\u001b[0m\u001b[1;33m\u001b[0m\u001b[0m\n\u001b[1;32m----> 2\u001b[1;33m \u001b[0mprint\u001b[0m\u001b[1;33m(\u001b[0m\u001b[0mmath\u001b[0m\u001b[1;33m.\u001b[0m\u001b[0msqrt\u001b[0m\u001b[1;33m(\u001b[0m\u001b[1;33m-\u001b[0m\u001b[1;36m1.0\u001b[0m\u001b[1;33m)\u001b[0m\u001b[1;33m)\u001b[0m\u001b[1;33m\u001b[0m\u001b[1;33m\u001b[0m\u001b[0m\n\u001b[0m",
      "\u001b[1;31mValueError\u001b[0m: math domain error"
     ]
    }
   ],
   "source": [
    "import math\n",
    "print(math.sqrt(-1.0))"
   ]
  },
  {
   "cell_type": "markdown",
   "id": "66825ded",
   "metadata": {},
   "source": [
    "#### using an undeclared variable:-"
   ]
  },
  {
   "cell_type": "code",
   "execution_count": 16,
   "id": "89bb6f75",
   "metadata": {},
   "outputs": [
    {
     "ename": "NameError",
     "evalue": "name 'x' is not defined",
     "output_type": "error",
     "traceback": [
      "\u001b[1;31m---------------------------------------------------------------------------\u001b[0m",
      "\u001b[1;31mNameError\u001b[0m                                 Traceback (most recent call last)",
      "\u001b[1;32m<ipython-input-16-fc17d851ef81>\u001b[0m in \u001b[0;36m<module>\u001b[1;34m\u001b[0m\n\u001b[1;32m----> 1\u001b[1;33m \u001b[0mprint\u001b[0m\u001b[1;33m(\u001b[0m\u001b[0mx\u001b[0m\u001b[1;33m)\u001b[0m\u001b[1;33m\u001b[0m\u001b[1;33m\u001b[0m\u001b[0m\n\u001b[0m",
      "\u001b[1;31mNameError\u001b[0m: name 'x' is not defined"
     ]
    }
   ],
   "source": [
    "print(x)"
   ]
  },
  {
   "cell_type": "markdown",
   "id": "c5714c40",
   "metadata": {},
   "source": [
    "#### Trying to open a file that does not exist:-"
   ]
  },
  {
   "cell_type": "code",
   "execution_count": 19,
   "id": "3c354820",
   "metadata": {},
   "outputs": [
    {
     "ename": "FileNotFoundError",
     "evalue": "[Errno 2] No such file or directory: 'amritku.txt'",
     "output_type": "error",
     "traceback": [
      "\u001b[1;31m---------------------------------------------------------------------------\u001b[0m",
      "\u001b[1;31mFileNotFoundError\u001b[0m                         Traceback (most recent call last)",
      "\u001b[1;32m<ipython-input-19-d48f1197fc2a>\u001b[0m in \u001b[0;36m<module>\u001b[1;34m\u001b[0m\n\u001b[1;32m----> 1\u001b[1;33m \u001b[1;32mwith\u001b[0m \u001b[0mopen\u001b[0m\u001b[1;33m(\u001b[0m\u001b[1;34m'amritku.txt'\u001b[0m\u001b[1;33m,\u001b[0m\u001b[1;34m'r'\u001b[0m\u001b[1;33m)\u001b[0m \u001b[1;32mas\u001b[0m \u001b[0mf\u001b[0m\u001b[1;33m:\u001b[0m\u001b[1;33m\u001b[0m\u001b[1;33m\u001b[0m\u001b[0m\n\u001b[0m\u001b[0;32m      2\u001b[0m     \u001b[0mvar\u001b[0m\u001b[1;33m=\u001b[0m\u001b[0mf\u001b[0m\u001b[1;33m.\u001b[0m\u001b[0mread\u001b[0m\u001b[1;33m(\u001b[0m\u001b[1;33m)\u001b[0m\u001b[1;33m\u001b[0m\u001b[1;33m\u001b[0m\u001b[0m\n\u001b[0;32m      3\u001b[0m     \u001b[0mprint\u001b[0m\u001b[1;33m(\u001b[0m\u001b[0mvar\u001b[0m\u001b[1;33m)\u001b[0m\u001b[1;33m\u001b[0m\u001b[1;33m\u001b[0m\u001b[0m\n",
      "\u001b[1;31mFileNotFoundError\u001b[0m: [Errno 2] No such file or directory: 'amritku.txt'"
     ]
    }
   ],
   "source": [
    "with open('amritku.txt','r') as f:\n",
    "    var=f.read()\n",
    "    print(var)"
   ]
  },
  {
   "cell_type": "markdown",
   "id": "12a9749d",
   "metadata": {},
   "source": [
    "# Question10:"
   ]
  },
  {
   "cell_type": "code",
   "execution_count": 20,
   "id": "d9369795",
   "metadata": {},
   "outputs": [
    {
     "name": "stdout",
     "output_type": "stream",
     "text": [
      "Enter the string here: The red fox got bored and went home\n",
      "0\n",
      "0\n",
      "0\n",
      "0\n",
      "0\n",
      "0\n",
      "0\n",
      "0\n",
      "0\n",
      "0\n",
      "0\n",
      "0\n",
      "0\n",
      "0\n",
      "0\n",
      "0\n",
      "0\n",
      "0\n",
      "0\n",
      "0\n",
      "0\n",
      "0\n",
      "0\n",
      "0\n",
      "0\n",
      "0\n"
     ]
    }
   ],
   "source": [
    "letters='abcdefghijklmnopqrstuvwxyz'\n",
    "def frequencies(mystring):\n",
    "    characters=mystring[0]\n",
    "    characters= str(characters)\n",
    "mystring=input('Enter the string here: ')  \n",
    "for characters in letters:\n",
    "    if characters in letters:\n",
    "        frequencies=characters.count(mystring)     ##spent so much time on this one but i don't know why am getting 0\n",
    "        print(frequencies)\n",
    "        "
   ]
  },
  {
   "cell_type": "code",
   "execution_count": null,
   "id": "ebf9d084",
   "metadata": {},
   "outputs": [],
   "source": []
  }
 ],
 "metadata": {
  "kernelspec": {
   "display_name": "Python 3",
   "language": "python",
   "name": "python3"
  },
  "language_info": {
   "codemirror_mode": {
    "name": "ipython",
    "version": 3
   },
   "file_extension": ".py",
   "mimetype": "text/x-python",
   "name": "python",
   "nbconvert_exporter": "python",
   "pygments_lexer": "ipython3",
   "version": "3.8.8"
  }
 },
 "nbformat": 4,
 "nbformat_minor": 5
}
